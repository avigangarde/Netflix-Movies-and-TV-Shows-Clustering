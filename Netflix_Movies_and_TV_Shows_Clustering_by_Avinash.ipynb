{
  "nbformat": 4,
  "nbformat_minor": 0,
  "metadata": {
    "colab": {
      "provenance": [],
      "collapsed_sections": [
        "3RnN4peoiCZX",
        "x71ZqKXriCWQ",
        "7hBIi_osiCS2",
        "JlHwYmJAmNHm",
        "35m5QtbWiB9F",
        "PoPl-ycgm1ru",
        "H0kj-8xxnORC",
        "nA9Y7ga8ng1Z",
        "PBTbrJXOngz2",
        "u3PMJOP6ngxN",
        "dauF4eBmngu3",
        "bKJF3rekwFvQ",
        "MSa1f5Uengrz",
        "GF8Ens_Soomf",
        "0wOQAZs5pc--",
        "K5QZ13OEpz2H",
        "lQ7QKXXCp7Bj",
        "448CDAPjqfQr",
        "KSlN3yHqYklG",
        "t6dVpIINYklI",
        "ijmpgYnKYklI",
        "-JiQyfWJYklI",
        "EM7whBJCYoAo",
        "fge-S5ZAYoAp",
        "85gYPyotYoAp",
        "RoGjAbkUYoAp",
        "4Of9eVA-YrdM",
        "iky9q4vBYrdO",
        "F6T5p64dYrdO",
        "y-Ehk30pYrdP",
        "bamQiAODYuh1",
        "QHF8YVU7Yuh3",
        "GwzvFGzlYuh3",
        "qYpmQ266Yuh3",
        "OH-pJp9IphqM",
        "bbFf2-_FphqN",
        "_ouA3fa0phqN",
        "Seke61FWphqN",
        "PIIx-8_IphqN",
        "t27r6nlMphqO",
        "r2jJGEOYphqO",
        "b0JNsNcRphqO",
        "BZR9WyysphqO",
        "jj7wYXLtphqO",
        "eZrbJ2SmphqO",
        "rFu4xreNphqO",
        "YJ55k-q6phqO",
        "gCFgpxoyphqP",
        "OVtJsKN_phqQ",
        "lssrdh5qphqQ",
        "U2RJ9gkRphqQ",
        "1M8mcRywphqQ",
        "tgIPom80phqQ",
        "JMzcOPDDphqR",
        "x-EpHcCOp1ci",
        "X_VqEhTip1ck",
        "8zGJKyg5p1ck",
        "PVzmfK_Ep1ck",
        "n3dbpmDWp1ck",
        "ylSl6qgtp1ck",
        "ZWILFDl5p1ck",
        "M7G43BXep1ck",
        "Ag9LCva-p1cl",
        "E6MkPsBcp1cl",
        "2cELzS2fp1cl",
        "3MPXvC8up1cl",
        "NC_X3p0fY2L0",
        "UV0SzAkaZNRQ",
        "YPEH6qLeZNRQ",
        "q29F0dvdveiT",
        "EXh0U9oCveiU",
        "22aHeOlLveiV",
        "JcMwzZxoAimU",
        "8G2x9gOozGDZ",
        "gIfDvo9L0UH2"
      ],
      "include_colab_link": true
    },
    "kernelspec": {
      "name": "python3",
      "display_name": "Python 3"
    },
    "language_info": {
      "name": "python"
    },
    "accelerator": "TPU",
    "gpuClass": "standard"
  },
  "cells": [
    {
      "cell_type": "markdown",
      "metadata": {
        "id": "view-in-github",
        "colab_type": "text"
      },
      "source": [
        "<a href=\"https://colab.research.google.com/github/avigangarde/Netflix-Movies-and-TV-Shows-Clustering/blob/main/Netflix_Movies_and_TV_Shows_Clustering_by_Avinash.ipynb\" target=\"_parent\"><img src=\"https://colab.research.google.com/assets/colab-badge.svg\" alt=\"Open In Colab\"/></a>"
      ]
    },
    {
      "cell_type": "markdown",
      "source": [
        "# **Project Name**    - Netflix Movies and TV Shows Clustering\n",
        "\n"
      ],
      "metadata": {
        "id": "vncDsAP0Gaoa"
      }
    },
    {
      "cell_type": "markdown",
      "source": [
        "![netflix images.png](data:image/png;base64,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)"
      ],
      "metadata": {
        "id": "vqD-0DIJziPH"
      }
    },
    {
      "cell_type": "markdown",
      "source": [
        "##### **Project Type**    - Unsupervised Machine learning ( Clustering )\n",
        "##### **Contribution**    - Individual\n",
        "##### **Team Member 1 -** Avinash B Gangarde ( Data Science Traine At Almabetter)"
      ],
      "metadata": {
        "id": "beRrZCGUAJYm"
      }
    },
    {
      "cell_type": "markdown",
      "source": [
        "# **Project Summary -**"
      ],
      "metadata": {
        "id": "FJNUwmbgGyua"
      }
    },
    {
      "cell_type": "markdown",
      "source": [
        "The biggest provider of on-demand online streaming media and online DVD movie rentals is Netflix. Marc and Reed founded it on August 29, 1997, in Los Gatos, California. Its 69 million users reside in more than 60 nations and watch more than 100 million hours of TV and videos each day. With access to TV shows, documentaries, and feature films in a broad range of genres and languages, Netflix is the top global provider of online entertainment. These straightforward, engaging, and exciting visualisations were made as a result of my curiosity to analyse the Netflix platform's newly released material in order to identify demographic groups that shared interests.\n",
        "\n",
        "As of 2019, the Netflix content included in this dataset comprises of TV shows and films. The information was gathered from the independent Netflix search engine Fixable. The number of TV shows available on Netflix has almost tripled since 2010, according to an interesting study that was published in 2018. Since 2010, the number of movies available on the streaming service has dropped by more than 2,000, whereas the number of TV programmes has nearly tripled. Investigating what additional insights can be drawn from the same dataset will be fascinating. Many intriguing results can be obtained by combining this dataset with other external datasets, such as IMDB ratings and rotten tomatoes.\n",
        "\n",
        "we will follow following steps while doing this project:\n",
        "\n",
        "First, we will understand the data and the features it contains. Then, we will attempt to visualise the data using various libraries, such as matplotlib and seaborn, in order to better understand the relationships between the features.\n",
        "\n",
        "In step 2, we will look for null numbers and outliers.\n",
        "\n",
        "Step 3: To lessen dimensionality, we will attempt to create new features and feature encoding.\n",
        "\n",
        "Step 4 will involve determining which features are crucial for forming clusters.\n",
        "\n",
        "In step 5, we'll use techniques like the elbow and Silhoutte methods to determine the optimal number of clusters.\n",
        "\n",
        "In step 6, we'll move on to unsupervised learning methods like K-means clustering, hierarchical clustering, and content-based clustering.\n",
        "\n",
        "step-7  we will conclude the project and understand how this information is useful to the stakeholders and how they can use this insights to take decisions .\n",
        "\n",
        "\n"
      ],
      "metadata": {
        "id": "F6v_1wHtG2nS"
      }
    },
    {
      "cell_type": "markdown",
      "source": [
        "# **GitHub Link -**"
      ],
      "metadata": {
        "id": "w6K7xa23Elo4"
      }
    },
    {
      "cell_type": "markdown",
      "source": [
        "[Netflix Movies and TV Shows Clustering ](https://github.com/avigangarde/Netflix-Movies-and-TV-Shows-Clustering/blob/main/Netflix_Movies_and_TV_Shows_Clustering_by_Avinash.ipynb)"
      ],
      "metadata": {
        "id": "h1o69JH3Eqqn"
      }
    },
    {
      "cell_type": "markdown",
      "source": [
        "# **Problem Statement**\n"
      ],
      "metadata": {
        "id": "yQaldy8SH6Dl"
      }
    },
    {
      "cell_type": "markdown",
      "source": [
        "This dataset comprises of Netflix-eligible television shows and movies as of 2019. The information was gathered from the third-party Netflix search engine Flixable. The number of TV shows available on Netflix has almost tripled since 2010, according to an interesting study that was published in 2018. Since 2010, the number of movies available on the streaming service has dropped by more than 2,000, whereas the number of TV programmes has nearly tripled. Investigating what additional insights can be drawn from the same dataset will be fascinating. Many intriguing results can be obtained by combining this dataset with other external datasets, such as IMDB ratings and rotten tomatoes."
      ],
      "metadata": {
        "id": "DpeJGUA3kjGy"
      }
    },
    {
      "cell_type": "markdown",
      "source": [
        "#### **Define Your Business Objective?**"
      ],
      "metadata": {
        "id": "PH-0ReGfmX4f"
      }
    },
    {
      "cell_type": "markdown",
      "source": [
        "Investigating exploratory data ,  understanding the types of content that are accessible in various nations.  In recent years, Netflix has shifted its attention away from film and towards television.\n",
        "matching text-based features to create clusters of related content.\n",
        "\n",
        "understanding the platform's user base and the types of content they prefer to consume would allow the company to consider producing content in specific genres. The company wants to serve new users who join their platform as well as keep their current users happy. Understanding the user and the content they choose enables a business to retain customers, attract new users, and, ultimately, expand."
      ],
      "metadata": {
        "id": "PhDvGCAqmjP1"
      }
    },
    {
      "cell_type": "markdown",
      "source": [
        "# ***Let's Begin !***"
      ],
      "metadata": {
        "id": "O_i_v8NEhb9l"
      }
    },
    {
      "cell_type": "markdown",
      "source": [
        "## ***1. Know Your Data***"
      ],
      "metadata": {
        "id": "HhfV-JJviCcP"
      }
    },
    {
      "cell_type": "markdown",
      "source": [
        "### Import Libraries"
      ],
      "metadata": {
        "id": "Y3lxredqlCYt"
      }
    },
    {
      "cell_type": "code",
      "source": [
        "# Import Libraries\n",
        "\n",
        "import numpy as np\n",
        "import pandas as pd\n",
        "from numpy import math\n",
        "import seaborn as sns\n",
        "import matplotlib.pyplot as plt\n",
        "import matplotlib.ticker as mtick\n",
        "from matplotlib.pyplot import figure\n",
        "import plotly.graph_objects as go\n",
        "import plotly.offline as py\n",
        "import plotly.express as px\n",
        "from datetime import datetime as dt\n",
        "\n",
        "from wordcloud import WordCloud, STOPWORDS\n",
        "import re, string, unicodedata\n",
        "\n",
        "import nltk\n",
        "from bs4 import BeautifulSoup\n",
        "from nltk import word_tokenize, sent_tokenize\n",
        "from nltk.corpus import stopwords\n",
        "from nltk.stem import LancasterStemmer, WordNetLemmatizer\n",
        "from nltk.stem import WordNetLemmatizer\n",
        "from sklearn.feature_extraction.text import TfidfVectorizer\n",
        "from sklearn.decomposition import PCA\n",
        "\n",
        "from nltk.stem import WordNetLemmatizer\n",
        "nltk.download('wordnet')\n",
        "import nltk\n",
        "nltk.download('stopwords')\n",
        "from nltk.corpus import stopwords\n",
        "import string\n",
        "string.punctuation\n",
        "nltk.download('omw-1.4')\n",
        "from nltk.tokenize import TweetTokenizer\n",
        "\n",
        "from sklearn.cluster import KMeans\n",
        "from sklearn.metrics import silhouette_score\n",
        "from sklearn.cluster import AgglomerativeClustering\n",
        "import scipy.cluster.hierarchy as shc\n",
        "\n",
        "from sklearn.feature_extraction.text import CountVectorizer\n",
        "from sklearn.metrics.pairwise import cosine_similarity\n",
        "\n",
        "import warnings\n",
        "warnings.filterwarnings('ignore')"
      ],
      "metadata": {
        "id": "M8Vqi-pPk-HR",
        "colab": {
          "base_uri": "https://localhost:8080/"
        },
        "outputId": "34e1413a-5fba-4d95-8c39-c6455b8b7247"
      },
      "execution_count": 1,
      "outputs": [
        {
          "output_type": "stream",
          "name": "stderr",
          "text": [
            "[nltk_data] Downloading package wordnet to /root/nltk_data...\n",
            "[nltk_data] Downloading package stopwords to /root/nltk_data...\n",
            "[nltk_data]   Unzipping corpora/stopwords.zip.\n",
            "[nltk_data] Downloading package omw-1.4 to /root/nltk_data...\n"
          ]
        }
      ]
    },
    {
      "cell_type": "markdown",
      "source": [
        "### Dataset Loading"
      ],
      "metadata": {
        "id": "3RnN4peoiCZX"
      }
    },
    {
      "cell_type": "code",
      "source": [
        "# Mount the google drive on colab\n",
        "from google.colab import drive\n",
        "drive.mount('/content/drive/')"
      ],
      "metadata": {
        "id": "4CkvbW_SlZ_R",
        "colab": {
          "base_uri": "https://localhost:8080/"
        },
        "outputId": "dfa7a4c6-8289-4a0b-b07d-9e1eb9d24545"
      },
      "execution_count": 2,
      "outputs": [
        {
          "output_type": "stream",
          "name": "stdout",
          "text": [
            "Mounted at /content/drive/\n"
          ]
        }
      ]
    },
    {
      "cell_type": "code",
      "source": [
        "# reading the file \n",
        "df=pd.read_csv('/content/drive/MyDrive/ML capstone csv /NETFLIX MOVIES AND TV SHOWS CLUSTERING.csv')"
      ],
      "metadata": {
        "id": "BBXwQg8G51i5"
      },
      "execution_count": 3,
      "outputs": []
    },
    {
      "cell_type": "markdown",
      "source": [
        "### Dataset First View"
      ],
      "metadata": {
        "id": "x71ZqKXriCWQ"
      }
    },
    {
      "cell_type": "code",
      "source": [
        "# Dataset First Look\n",
        "df.head()"
      ],
      "metadata": {
        "id": "LWNFOSvLl09H",
        "colab": {
          "base_uri": "https://localhost:8080/",
          "height": 476
        },
        "outputId": "82704cbe-32d4-4c55-ea77-a2a1661cbc16"
      },
      "execution_count": 4,
      "outputs": [
        {
          "output_type": "execute_result",
          "data": {
            "text/plain": [
              "  show_id     type  title           director  \\\n",
              "0      s1  TV Show     3%                NaN   \n",
              "1      s2    Movie   7:19  Jorge Michel Grau   \n",
              "2      s3    Movie  23:59       Gilbert Chan   \n",
              "3      s4    Movie      9        Shane Acker   \n",
              "4      s5    Movie     21     Robert Luketic   \n",
              "\n",
              "                                                cast        country  \\\n",
              "0  João Miguel, Bianca Comparato, Michel Gomes, R...         Brazil   \n",
              "1  Demián Bichir, Héctor Bonilla, Oscar Serrano, ...         Mexico   \n",
              "2  Tedd Chan, Stella Chung, Henley Hii, Lawrence ...      Singapore   \n",
              "3  Elijah Wood, John C. Reilly, Jennifer Connelly...  United States   \n",
              "4  Jim Sturgess, Kevin Spacey, Kate Bosworth, Aar...  United States   \n",
              "\n",
              "          date_added  release_year rating   duration  \\\n",
              "0    August 14, 2020          2020  TV-MA  4 Seasons   \n",
              "1  December 23, 2016          2016  TV-MA     93 min   \n",
              "2  December 20, 2018          2011      R     78 min   \n",
              "3  November 16, 2017          2009  PG-13     80 min   \n",
              "4    January 1, 2020          2008  PG-13    123 min   \n",
              "\n",
              "                                           listed_in  \\\n",
              "0  International TV Shows, TV Dramas, TV Sci-Fi &...   \n",
              "1                       Dramas, International Movies   \n",
              "2                Horror Movies, International Movies   \n",
              "3  Action & Adventure, Independent Movies, Sci-Fi...   \n",
              "4                                             Dramas   \n",
              "\n",
              "                                         description  \n",
              "0  In a future where the elite inhabit an island ...  \n",
              "1  After a devastating earthquake hits Mexico Cit...  \n",
              "2  When an army recruit is found dead, his fellow...  \n",
              "3  In a postapocalyptic world, rag-doll robots hi...  \n",
              "4  A brilliant group of students become card-coun...  "
            ],
            "text/html": [
              "\n",
              "  <div id=\"df-910406c5-2ec8-448d-9952-a8d177221ca5\">\n",
              "    <div class=\"colab-df-container\">\n",
              "      <div>\n",
              "<style scoped>\n",
              "    .dataframe tbody tr th:only-of-type {\n",
              "        vertical-align: middle;\n",
              "    }\n",
              "\n",
              "    .dataframe tbody tr th {\n",
              "        vertical-align: top;\n",
              "    }\n",
              "\n",
              "    .dataframe thead th {\n",
              "        text-align: right;\n",
              "    }\n",
              "</style>\n",
              "<table border=\"1\" class=\"dataframe\">\n",
              "  <thead>\n",
              "    <tr style=\"text-align: right;\">\n",
              "      <th></th>\n",
              "      <th>show_id</th>\n",
              "      <th>type</th>\n",
              "      <th>title</th>\n",
              "      <th>director</th>\n",
              "      <th>cast</th>\n",
              "      <th>country</th>\n",
              "      <th>date_added</th>\n",
              "      <th>release_year</th>\n",
              "      <th>rating</th>\n",
              "      <th>duration</th>\n",
              "      <th>listed_in</th>\n",
              "      <th>description</th>\n",
              "    </tr>\n",
              "  </thead>\n",
              "  <tbody>\n",
              "    <tr>\n",
              "      <th>0</th>\n",
              "      <td>s1</td>\n",
              "      <td>TV Show</td>\n",
              "      <td>3%</td>\n",
              "      <td>NaN</td>\n",
              "      <td>João Miguel, Bianca Comparato, Michel Gomes, R...</td>\n",
              "      <td>Brazil</td>\n",
              "      <td>August 14, 2020</td>\n",
              "      <td>2020</td>\n",
              "      <td>TV-MA</td>\n",
              "      <td>4 Seasons</td>\n",
              "      <td>International TV Shows, TV Dramas, TV Sci-Fi &amp;...</td>\n",
              "      <td>In a future where the elite inhabit an island ...</td>\n",
              "    </tr>\n",
              "    <tr>\n",
              "      <th>1</th>\n",
              "      <td>s2</td>\n",
              "      <td>Movie</td>\n",
              "      <td>7:19</td>\n",
              "      <td>Jorge Michel Grau</td>\n",
              "      <td>Demián Bichir, Héctor Bonilla, Oscar Serrano, ...</td>\n",
              "      <td>Mexico</td>\n",
              "      <td>December 23, 2016</td>\n",
              "      <td>2016</td>\n",
              "      <td>TV-MA</td>\n",
              "      <td>93 min</td>\n",
              "      <td>Dramas, International Movies</td>\n",
              "      <td>After a devastating earthquake hits Mexico Cit...</td>\n",
              "    </tr>\n",
              "    <tr>\n",
              "      <th>2</th>\n",
              "      <td>s3</td>\n",
              "      <td>Movie</td>\n",
              "      <td>23:59</td>\n",
              "      <td>Gilbert Chan</td>\n",
              "      <td>Tedd Chan, Stella Chung, Henley Hii, Lawrence ...</td>\n",
              "      <td>Singapore</td>\n",
              "      <td>December 20, 2018</td>\n",
              "      <td>2011</td>\n",
              "      <td>R</td>\n",
              "      <td>78 min</td>\n",
              "      <td>Horror Movies, International Movies</td>\n",
              "      <td>When an army recruit is found dead, his fellow...</td>\n",
              "    </tr>\n",
              "    <tr>\n",
              "      <th>3</th>\n",
              "      <td>s4</td>\n",
              "      <td>Movie</td>\n",
              "      <td>9</td>\n",
              "      <td>Shane Acker</td>\n",
              "      <td>Elijah Wood, John C. Reilly, Jennifer Connelly...</td>\n",
              "      <td>United States</td>\n",
              "      <td>November 16, 2017</td>\n",
              "      <td>2009</td>\n",
              "      <td>PG-13</td>\n",
              "      <td>80 min</td>\n",
              "      <td>Action &amp; Adventure, Independent Movies, Sci-Fi...</td>\n",
              "      <td>In a postapocalyptic world, rag-doll robots hi...</td>\n",
              "    </tr>\n",
              "    <tr>\n",
              "      <th>4</th>\n",
              "      <td>s5</td>\n",
              "      <td>Movie</td>\n",
              "      <td>21</td>\n",
              "      <td>Robert Luketic</td>\n",
              "      <td>Jim Sturgess, Kevin Spacey, Kate Bosworth, Aar...</td>\n",
              "      <td>United States</td>\n",
              "      <td>January 1, 2020</td>\n",
              "      <td>2008</td>\n",
              "      <td>PG-13</td>\n",
              "      <td>123 min</td>\n",
              "      <td>Dramas</td>\n",
              "      <td>A brilliant group of students become card-coun...</td>\n",
              "    </tr>\n",
              "  </tbody>\n",
              "</table>\n",
              "</div>\n",
              "      <button class=\"colab-df-convert\" onclick=\"convertToInteractive('df-910406c5-2ec8-448d-9952-a8d177221ca5')\"\n",
              "              title=\"Convert this dataframe to an interactive table.\"\n",
              "              style=\"display:none;\">\n",
              "        \n",
              "  <svg xmlns=\"http://www.w3.org/2000/svg\" height=\"24px\"viewBox=\"0 0 24 24\"\n",
              "       width=\"24px\">\n",
              "    <path d=\"M0 0h24v24H0V0z\" fill=\"none\"/>\n",
              "    <path d=\"M18.56 5.44l.94 2.06.94-2.06 2.06-.94-2.06-.94-.94-2.06-.94 2.06-2.06.94zm-11 1L8.5 8.5l.94-2.06 2.06-.94-2.06-.94L8.5 2.5l-.94 2.06-2.06.94zm10 10l.94 2.06.94-2.06 2.06-.94-2.06-.94-.94-2.06-.94 2.06-2.06.94z\"/><path d=\"M17.41 7.96l-1.37-1.37c-.4-.4-.92-.59-1.43-.59-.52 0-1.04.2-1.43.59L10.3 9.45l-7.72 7.72c-.78.78-.78 2.05 0 2.83L4 21.41c.39.39.9.59 1.41.59.51 0 1.02-.2 1.41-.59l7.78-7.78 2.81-2.81c.8-.78.8-2.07 0-2.86zM5.41 20L4 18.59l7.72-7.72 1.47 1.35L5.41 20z\"/>\n",
              "  </svg>\n",
              "      </button>\n",
              "      \n",
              "  <style>\n",
              "    .colab-df-container {\n",
              "      display:flex;\n",
              "      flex-wrap:wrap;\n",
              "      gap: 12px;\n",
              "    }\n",
              "\n",
              "    .colab-df-convert {\n",
              "      background-color: #E8F0FE;\n",
              "      border: none;\n",
              "      border-radius: 50%;\n",
              "      cursor: pointer;\n",
              "      display: none;\n",
              "      fill: #1967D2;\n",
              "      height: 32px;\n",
              "      padding: 0 0 0 0;\n",
              "      width: 32px;\n",
              "    }\n",
              "\n",
              "    .colab-df-convert:hover {\n",
              "      background-color: #E2EBFA;\n",
              "      box-shadow: 0px 1px 2px rgba(60, 64, 67, 0.3), 0px 1px 3px 1px rgba(60, 64, 67, 0.15);\n",
              "      fill: #174EA6;\n",
              "    }\n",
              "\n",
              "    [theme=dark] .colab-df-convert {\n",
              "      background-color: #3B4455;\n",
              "      fill: #D2E3FC;\n",
              "    }\n",
              "\n",
              "    [theme=dark] .colab-df-convert:hover {\n",
              "      background-color: #434B5C;\n",
              "      box-shadow: 0px 1px 3px 1px rgba(0, 0, 0, 0.15);\n",
              "      filter: drop-shadow(0px 1px 2px rgba(0, 0, 0, 0.3));\n",
              "      fill: #FFFFFF;\n",
              "    }\n",
              "  </style>\n",
              "\n",
              "      <script>\n",
              "        const buttonEl =\n",
              "          document.querySelector('#df-910406c5-2ec8-448d-9952-a8d177221ca5 button.colab-df-convert');\n",
              "        buttonEl.style.display =\n",
              "          google.colab.kernel.accessAllowed ? 'block' : 'none';\n",
              "\n",
              "        async function convertToInteractive(key) {\n",
              "          const element = document.querySelector('#df-910406c5-2ec8-448d-9952-a8d177221ca5');\n",
              "          const dataTable =\n",
              "            await google.colab.kernel.invokeFunction('convertToInteractive',\n",
              "                                                     [key], {});\n",
              "          if (!dataTable) return;\n",
              "\n",
              "          const docLinkHtml = 'Like what you see? Visit the ' +\n",
              "            '<a target=\"_blank\" href=https://colab.research.google.com/notebooks/data_table.ipynb>data table notebook</a>'\n",
              "            + ' to learn more about interactive tables.';\n",
              "          element.innerHTML = '';\n",
              "          dataTable['output_type'] = 'display_data';\n",
              "          await google.colab.output.renderOutput(dataTable, element);\n",
              "          const docLink = document.createElement('div');\n",
              "          docLink.innerHTML = docLinkHtml;\n",
              "          element.appendChild(docLink);\n",
              "        }\n",
              "      </script>\n",
              "    </div>\n",
              "  </div>\n",
              "  "
            ]
          },
          "metadata": {},
          "execution_count": 4
        }
      ]
    },
    {
      "cell_type": "markdown",
      "source": [
        "### Dataset Rows & Columns count"
      ],
      "metadata": {
        "id": "7hBIi_osiCS2"
      }
    },
    {
      "cell_type": "code",
      "source": [
        "# Dataset Rows & Columns count\n",
        "df.shape\n",
        "print(f'number of rows : {df.shape[0]}  \\nnumber of columns : {df.shape[1]}')"
      ],
      "metadata": {
        "id": "Kllu7SJgmLij",
        "colab": {
          "base_uri": "https://localhost:8080/"
        },
        "outputId": "e09c194b-2711-4b56-cb50-e49e725bdb10"
      },
      "execution_count": 7,
      "outputs": [
        {
          "output_type": "stream",
          "name": "stdout",
          "text": [
            "number of rows : 7787  \n",
            "number of columns : 12\n"
          ]
        }
      ]
    },
    {
      "cell_type": "markdown",
      "source": [
        "### Dataset Information"
      ],
      "metadata": {
        "id": "JlHwYmJAmNHm"
      }
    },
    {
      "cell_type": "code",
      "source": [
        "# Dataset Info\n",
        "df.info()"
      ],
      "metadata": {
        "id": "e9hRXRi6meOf",
        "colab": {
          "base_uri": "https://localhost:8080/"
        },
        "outputId": "7a58dd81-adbb-4026-a820-79b81857ddb2"
      },
      "execution_count": 6,
      "outputs": [
        {
          "output_type": "stream",
          "name": "stdout",
          "text": [
            "<class 'pandas.core.frame.DataFrame'>\n",
            "RangeIndex: 7787 entries, 0 to 7786\n",
            "Data columns (total 12 columns):\n",
            " #   Column        Non-Null Count  Dtype \n",
            "---  ------        --------------  ----- \n",
            " 0   show_id       7787 non-null   object\n",
            " 1   type          7787 non-null   object\n",
            " 2   title         7787 non-null   object\n",
            " 3   director      5398 non-null   object\n",
            " 4   cast          7069 non-null   object\n",
            " 5   country       7280 non-null   object\n",
            " 6   date_added    7777 non-null   object\n",
            " 7   release_year  7787 non-null   int64 \n",
            " 8   rating        7780 non-null   object\n",
            " 9   duration      7787 non-null   object\n",
            " 10  listed_in     7787 non-null   object\n",
            " 11  description   7787 non-null   object\n",
            "dtypes: int64(1), object(11)\n",
            "memory usage: 730.2+ KB\n"
          ]
        }
      ]
    },
    {
      "cell_type": "markdown",
      "source": [
        "#### Duplicate Values"
      ],
      "metadata": {
        "id": "35m5QtbWiB9F"
      }
    },
    {
      "cell_type": "code",
      "source": [
        "# Dataset Duplicate Value Count\n",
        "print(f'No of duplicate rows in  dataset is {df.duplicated().sum()}')"
      ],
      "metadata": {
        "id": "1sLdpKYkmox0",
        "colab": {
          "base_uri": "https://localhost:8080/"
        },
        "outputId": "0b6a3f6f-b652-4aee-dd45-035e0119ecbb"
      },
      "execution_count": 10,
      "outputs": [
        {
          "output_type": "stream",
          "name": "stdout",
          "text": [
            "No of duplicate rows in  dataset is 0\n"
          ]
        }
      ]
    },
    {
      "cell_type": "markdown",
      "source": [
        "#### Missing Values/Null Values"
      ],
      "metadata": {
        "id": "PoPl-ycgm1ru"
      }
    },
    {
      "cell_type": "code",
      "source": [
        "# Missing Values/Null Values Count\n",
        "df.isna().sum()"
      ],
      "metadata": {
        "id": "GgHWkxvamxVg",
        "colab": {
          "base_uri": "https://localhost:8080/"
        },
        "outputId": "b94aa793-047f-4747-fc09-19346db40493"
      },
      "execution_count": 11,
      "outputs": [
        {
          "output_type": "execute_result",
          "data": {
            "text/plain": [
              "show_id            0\n",
              "type               0\n",
              "title              0\n",
              "director        2389\n",
              "cast             718\n",
              "country          507\n",
              "date_added        10\n",
              "release_year       0\n",
              "rating             7\n",
              "duration           0\n",
              "listed_in          0\n",
              "description        0\n",
              "dtype: int64"
            ]
          },
          "metadata": {},
          "execution_count": 11
        }
      ]
    },
    {
      "cell_type": "code",
      "source": [
        "# Visualizing the missing values\n",
        "import missingno as msno\n",
        "msno.bar(df)"
      ],
      "metadata": {
        "id": "3q5wnI3om9sJ",
        "colab": {
          "base_uri": "https://localhost:8080/",
          "height": 558
        },
        "outputId": "e5e2444f-89b8-42b9-ae2f-1e368013d26e"
      },
      "execution_count": 13,
      "outputs": [
        {
          "output_type": "execute_result",
          "data": {
            "text/plain": [
              "<AxesSubplot:>"
            ]
          },
          "metadata": {},
          "execution_count": 13
        },
        {
          "output_type": "display_data",
          "data": {
            "text/plain": [
              "<Figure size 1800x720 with 3 Axes>"
            ],
            "image/png": "[encoded data removed]"
          },
          "metadata": {
            "needs_background": "light"
          }
        }
      ]
    },
    {
      "cell_type": "markdown",
      "source": [
        "### What did you know about your dataset?"
      ],
      "metadata": {
        "id": "H0kj-8xxnORC"
      }
    },
    {
      "cell_type": "markdown",
      "source": [
        "1] Dataset has 7787 Rows and 12 columns .\n",
        "\n",
        "2] released year is the only column having numerical data , remaining have object type of data.\n",
        "\n",
        "3] This are some columns have null values present such as director column has 2389 null values  ,cast column has 718 null values ,country  column has 507 null values and date_added column has 10 null values.\n",
        "\n",
        "4] There are ) duplicate rows present insie the dataset.\n",
        "\n",
        "\n"
      ],
      "metadata": {
        "id": "gfoNAAC-nUe_"
      }
    },
    {
      "cell_type": "markdown",
      "source": [
        "## ***2. Understanding Your Variables***"
      ],
      "metadata": {
        "id": "nA9Y7ga8ng1Z"
      }
    },
    {
      "cell_type": "code",
      "source": [
        "# Dataset Columns\n",
        "df.columns"
      ],
      "metadata": {
        "id": "j7xfkqrt5Ag5",
        "colab": {
          "base_uri": "https://localhost:8080/"
        },
        "outputId": "c3ee4b01-b879-4e85-9867-331ace0ea2c6"
      },
      "execution_count": 16,
      "outputs": [
        {
          "output_type": "execute_result",
          "data": {
            "text/plain": [
              "Index(['show_id', 'type', 'title', 'director', 'cast', 'country', 'date_added',\n",
              "       'release_year', 'rating', 'duration', 'listed_in', 'description'],\n",
              "      dtype='object')"
            ]
          },
          "metadata": {},
          "execution_count": 16
        }
      ]
    },
    {
      "cell_type": "code",
      "source": [
        "# Dataset Describe\n",
        "df.describe(include='all')"
      ],
      "metadata": {
        "id": "DnOaZdaE5Q5t",
        "colab": {
          "base_uri": "https://localhost:8080/",
          "height": 473
        },
        "outputId": "1dd62987-afc1-47ff-d20b-e8dafd6cd6e3"
      },
      "execution_count": 19,
      "outputs": [
        {
          "output_type": "execute_result",
          "data": {
            "text/plain": [
              "       show_id   type title                director                cast  \\\n",
              "count     7787   7787  7787                    5398                7069   \n",
              "unique    7787      2  7787                    4049                6831   \n",
              "top         s1  Movie    3%  Raúl Campos, Jan Suter  David Attenborough   \n",
              "freq         1   5377     1                      18                  18   \n",
              "mean       NaN    NaN   NaN                     NaN                 NaN   \n",
              "std        NaN    NaN   NaN                     NaN                 NaN   \n",
              "min        NaN    NaN   NaN                     NaN                 NaN   \n",
              "25%        NaN    NaN   NaN                     NaN                 NaN   \n",
              "50%        NaN    NaN   NaN                     NaN                 NaN   \n",
              "75%        NaN    NaN   NaN                     NaN                 NaN   \n",
              "max        NaN    NaN   NaN                     NaN                 NaN   \n",
              "\n",
              "              country       date_added  release_year rating  duration  \\\n",
              "count            7280             7777   7787.000000   7780      7787   \n",
              "unique            681             1565           NaN     14       216   \n",
              "top     United States  January 1, 2020           NaN  TV-MA  1 Season   \n",
              "freq             2555              118           NaN   2863      1608   \n",
              "mean              NaN              NaN   2013.932580    NaN       NaN   \n",
              "std               NaN              NaN      8.757395    NaN       NaN   \n",
              "min               NaN              NaN   1925.000000    NaN       NaN   \n",
              "25%               NaN              NaN   2013.000000    NaN       NaN   \n",
              "50%               NaN              NaN   2017.000000    NaN       NaN   \n",
              "75%               NaN              NaN   2018.000000    NaN       NaN   \n",
              "max               NaN              NaN   2021.000000    NaN       NaN   \n",
              "\n",
              "            listed_in                                        description  \n",
              "count            7787                                               7787  \n",
              "unique            492                                               7769  \n",
              "top     Documentaries  Multiple women report their husbands as missin...  \n",
              "freq              334                                                  3  \n",
              "mean              NaN                                                NaN  \n",
              "std               NaN                                                NaN  \n",
              "min               NaN                                                NaN  \n",
              "25%               NaN                                                NaN  \n",
              "50%               NaN                                                NaN  \n",
              "75%               NaN                                                NaN  \n",
              "max               NaN                                                NaN  "
            ],
            "text/html": [
              "\n",
              "  <div id=\"df-4259c3f5-fb8a-49ba-a09f-39abfcdc5e07\">\n",
              "    <div class=\"colab-df-container\">\n",
              "      <div>\n",
              "<style scoped>\n",
              "    .dataframe tbody tr th:only-of-type {\n",
              "        vertical-align: middle;\n",
              "    }\n",
              "\n",
              "    .dataframe tbody tr th {\n",
              "        vertical-align: top;\n",
              "    }\n",
              "\n",
              "    .dataframe thead th {\n",
              "        text-align: right;\n",
              "    }\n",
              "</style>\n",
              "<table border=\"1\" class=\"dataframe\">\n",
              "  <thead>\n",
              "    <tr style=\"text-align: right;\">\n",
              "      <th></th>\n",
              "      <th>show_id</th>\n",
              "      <th>type</th>\n",
              "      <th>title</th>\n",
              "      <th>director</th>\n",
              "      <th>cast</th>\n",
              "      <th>country</th>\n",
              "      <th>date_added</th>\n",
              "      <th>release_year</th>\n",
              "      <th>rating</th>\n",
              "      <th>duration</th>\n",
              "      <th>listed_in</th>\n",
              "      <th>description</th>\n",
              "    </tr>\n",
              "  </thead>\n",
              "  <tbody>\n",
              "    <tr>\n",
              "      <th>count</th>\n",
              "      <td>7787</td>\n",
              "      <td>7787</td>\n",
              "      <td>7787</td>\n",
              "      <td>5398</td>\n",
              "      <td>7069</td>\n",
              "      <td>7280</td>\n",
              "      <td>7777</td>\n",
              "      <td>7787.000000</td>\n",
              "      <td>7780</td>\n",
              "      <td>7787</td>\n",
              "      <td>7787</td>\n",
              "      <td>7787</td>\n",
              "    </tr>\n",
              "    <tr>\n",
              "      <th>unique</th>\n",
              "      <td>7787</td>\n",
              "      <td>2</td>\n",
              "      <td>7787</td>\n",
              "      <td>4049</td>\n",
              "      <td>6831</td>\n",
              "      <td>681</td>\n",
              "      <td>1565</td>\n",
              "      <td>NaN</td>\n",
              "      <td>14</td>\n",
              "      <td>216</td>\n",
              "      <td>492</td>\n",
              "      <td>7769</td>\n",
              "    </tr>\n",
              "    <tr>\n",
              "      <th>top</th>\n",
              "      <td>s1</td>\n",
              "      <td>Movie</td>\n",
              "      <td>3%</td>\n",
              "      <td>Raúl Campos, Jan Suter</td>\n",
              "      <td>David Attenborough</td>\n",
              "      <td>United States</td>\n",
              "      <td>January 1, 2020</td>\n",
              "      <td>NaN</td>\n",
              "      <td>TV-MA</td>\n",
              "      <td>1 Season</td>\n",
              "      <td>Documentaries</td>\n",
              "      <td>Multiple women report their husbands as missin...</td>\n",
              "    </tr>\n",
              "    <tr>\n",
              "      <th>freq</th>\n",
              "      <td>1</td>\n",
              "      <td>5377</td>\n",
              "      <td>1</td>\n",
              "      <td>18</td>\n",
              "      <td>18</td>\n",
              "      <td>2555</td>\n",
              "      <td>118</td>\n",
              "      <td>NaN</td>\n",
              "      <td>2863</td>\n",
              "      <td>1608</td>\n",
              "      <td>334</td>\n",
              "      <td>3</td>\n",
              "    </tr>\n",
              "    <tr>\n",
              "      <th>mean</th>\n",
              "      <td>NaN</td>\n",
              "      <td>NaN</td>\n",
              "      <td>NaN</td>\n",
              "      <td>NaN</td>\n",
              "      <td>NaN</td>\n",
              "      <td>NaN</td>\n",
              "      <td>NaN</td>\n",
              "      <td>2013.932580</td>\n",
              "      <td>NaN</td>\n",
              "      <td>NaN</td>\n",
              "      <td>NaN</td>\n",
              "      <td>NaN</td>\n",
              "    </tr>\n",
              "    <tr>\n",
              "      <th>std</th>\n",
              "      <td>NaN</td>\n",
              "      <td>NaN</td>\n",
              "      <td>NaN</td>\n",
              "      <td>NaN</td>\n",
              "      <td>NaN</td>\n",
              "      <td>NaN</td>\n",
              "      <td>NaN</td>\n",
              "      <td>8.757395</td>\n",
              "      <td>NaN</td>\n",
              "      <td>NaN</td>\n",
              "      <td>NaN</td>\n",
              "      <td>NaN</td>\n",
              "    </tr>\n",
              "    <tr>\n",
              "      <th>min</th>\n",
              "      <td>NaN</td>\n",
              "      <td>NaN</td>\n",
              "      <td>NaN</td>\n",
              "      <td>NaN</td>\n",
              "      <td>NaN</td>\n",
              "      <td>NaN</td>\n",
              "      <td>NaN</td>\n",
              "      <td>1925.000000</td>\n",
              "      <td>NaN</td>\n",
              "      <td>NaN</td>\n",
              "      <td>NaN</td>\n",
              "      <td>NaN</td>\n",
              "    </tr>\n",
              "    <tr>\n",
              "      <th>25%</th>\n",
              "      <td>NaN</td>\n",
              "      <td>NaN</td>\n",
              "      <td>NaN</td>\n",
              "      <td>NaN</td>\n",
              "      <td>NaN</td>\n",
              "      <td>NaN</td>\n",
              "      <td>NaN</td>\n",
              "      <td>2013.000000</td>\n",
              "      <td>NaN</td>\n",
              "      <td>NaN</td>\n",
              "      <td>NaN</td>\n",
              "      <td>NaN</td>\n",
              "    </tr>\n",
              "    <tr>\n",
              "      <th>50%</th>\n",
              "      <td>NaN</td>\n",
              "      <td>NaN</td>\n",
              "      <td>NaN</td>\n",
              "      <td>NaN</td>\n",
              "      <td>NaN</td>\n",
              "      <td>NaN</td>\n",
              "      <td>NaN</td>\n",
              "      <td>2017.000000</td>\n",
              "      <td>NaN</td>\n",
              "      <td>NaN</td>\n",
              "      <td>NaN</td>\n",
              "      <td>NaN</td>\n",
              "    </tr>\n",
              "    <tr>\n",
              "      <th>75%</th>\n",
              "      <td>NaN</td>\n",
              "      <td>NaN</td>\n",
              "      <td>NaN</td>\n",
              "      <td>NaN</td>\n",
              "      <td>NaN</td>\n",
              "      <td>NaN</td>\n",
              "      <td>NaN</td>\n",
              "      <td>2018.000000</td>\n",
              "      <td>NaN</td>\n",
              "      <td>NaN</td>\n",
              "      <td>NaN</td>\n",
              "      <td>NaN</td>\n",
              "    </tr>\n",
              "    <tr>\n",
              "      <th>max</th>\n",
              "      <td>NaN</td>\n",
              "      <td>NaN</td>\n",
              "      <td>NaN</td>\n",
              "      <td>NaN</td>\n",
              "      <td>NaN</td>\n",
              "      <td>NaN</td>\n",
              "      <td>NaN</td>\n",
              "      <td>2021.000000</td>\n",
              "      <td>NaN</td>\n",
              "      <td>NaN</td>\n",
              "      <td>NaN</td>\n",
              "      <td>NaN</td>\n",
              "    </tr>\n",
              "  </tbody>\n",
              "</table>\n",
              "</div>\n",
              "      <button class=\"colab-df-convert\" onclick=\"convertToInteractive('df-4259c3f5-fb8a-49ba-a09f-39abfcdc5e07')\"\n",
              "              title=\"Convert this dataframe to an interactive table.\"\n",
              "              style=\"display:none;\">\n",
              "        \n",
              "  <svg xmlns=\"http://www.w3.org/2000/svg\" height=\"24px\"viewBox=\"0 0 24 24\"\n",
              "       width=\"24px\">\n",
              "    <path d=\"M0 0h24v24H0V0z\" fill=\"none\"/>\n",
              "    <path d=\"M18.56 5.44l.94 2.06.94-2.06 2.06-.94-2.06-.94-.94-2.06-.94 2.06-2.06.94zm-11 1L8.5 8.5l.94-2.06 2.06-.94-2.06-.94L8.5 2.5l-.94 2.06-2.06.94zm10 10l.94 2.06.94-2.06 2.06-.94-2.06-.94-.94-2.06-.94 2.06-2.06.94z\"/><path d=\"M17.41 7.96l-1.37-1.37c-.4-.4-.92-.59-1.43-.59-.52 0-1.04.2-1.43.59L10.3 9.45l-7.72 7.72c-.78.78-.78 2.05 0 2.83L4 21.41c.39.39.9.59 1.41.59.51 0 1.02-.2 1.41-.59l7.78-7.78 2.81-2.81c.8-.78.8-2.07 0-2.86zM5.41 20L4 18.59l7.72-7.72 1.47 1.35L5.41 20z\"/>\n",
              "  </svg>\n",
              "      </button>\n",
              "      \n",
              "  <style>\n",
              "    .colab-df-container {\n",
              "      display:flex;\n",
              "      flex-wrap:wrap;\n",
              "      gap: 12px;\n",
              "    }\n",
              "\n",
              "    .colab-df-convert {\n",
              "      background-color: #E8F0FE;\n",
              "      border: none;\n",
              "      border-radius: 50%;\n",
              "      cursor: pointer;\n",
              "      display: none;\n",
              "      fill: #1967D2;\n",
              "      height: 32px;\n",
              "      padding: 0 0 0 0;\n",
              "      width: 32px;\n",
              "    }\n",
              "\n",
              "    .colab-df-convert:hover {\n",
              "      background-color: #E2EBFA;\n",
              "      box-shadow: 0px 1px 2px rgba(60, 64, 67, 0.3), 0px 1px 3px 1px rgba(60, 64, 67, 0.15);\n",
              "      fill: #174EA6;\n",
              "    }\n",
              "\n",
              "    [theme=dark] .colab-df-convert {\n",
              "      background-color: #3B4455;\n",
              "      fill: #D2E3FC;\n",
              "    }\n",
              "\n",
              "    [theme=dark] .colab-df-convert:hover {\n",
              "      background-color: #434B5C;\n",
              "      box-shadow: 0px 1px 3px 1px rgba(0, 0, 0, 0.15);\n",
              "      filter: drop-shadow(0px 1px 2px rgba(0, 0, 0, 0.3));\n",
              "      fill: #FFFFFF;\n",
              "    }\n",
              "  </style>\n",
              "\n",
              "      <script>\n",
              "        const buttonEl =\n",
              "          document.querySelector('#df-4259c3f5-fb8a-49ba-a09f-39abfcdc5e07 button.colab-df-convert');\n",
              "        buttonEl.style.display =\n",
              "          google.colab.kernel.accessAllowed ? 'block' : 'none';\n",
              "\n",
              "        async function convertToInteractive(key) {\n",
              "          const element = document.querySelector('#df-4259c3f5-fb8a-49ba-a09f-39abfcdc5e07');\n",
              "          const dataTable =\n",
              "            await google.colab.kernel.invokeFunction('convertToInteractive',\n",
              "                                                     [key], {});\n",
              "          if (!dataTable) return;\n",
              "\n",
              "          const docLinkHtml = 'Like what you see? Visit the ' +\n",
              "            '<a target=\"_blank\" href=https://colab.research.google.com/notebooks/data_table.ipynb>data table notebook</a>'\n",
              "            + ' to learn more about interactive tables.';\n",
              "          element.innerHTML = '';\n",
              "          dataTable['output_type'] = 'display_data';\n",
              "          await google.colab.output.renderOutput(dataTable, element);\n",
              "          const docLink = document.createElement('div');\n",
              "          docLink.innerHTML = docLinkHtml;\n",
              "          element.appendChild(docLink);\n",
              "        }\n",
              "      </script>\n",
              "    </div>\n",
              "  </div>\n",
              "  "
            ]
          },
          "metadata": {},
          "execution_count": 19
        }
      ]
    },
    {
      "cell_type": "code",
      "source": [
        "# take a look at dataset to understand data contain in columns\n",
        "df.head(2)"
      ],
      "metadata": {
        "colab": {
          "base_uri": "https://localhost:8080/",
          "height": 225
        },
        "id": "NK2Oso7lANG1",
        "outputId": "9cc0db87-f247-4b3a-fdf9-01e7c58a1dfa"
      },
      "execution_count": 21,
      "outputs": [
        {
          "output_type": "execute_result",
          "data": {
            "text/plain": [
              "  show_id     type title           director  \\\n",
              "0      s1  TV Show    3%                NaN   \n",
              "1      s2    Movie  7:19  Jorge Michel Grau   \n",
              "\n",
              "                                                cast country  \\\n",
              "0  João Miguel, Bianca Comparato, Michel Gomes, R...  Brazil   \n",
              "1  Demián Bichir, Héctor Bonilla, Oscar Serrano, ...  Mexico   \n",
              "\n",
              "          date_added  release_year rating   duration  \\\n",
              "0    August 14, 2020          2020  TV-MA  4 Seasons   \n",
              "1  December 23, 2016          2016  TV-MA     93 min   \n",
              "\n",
              "                                           listed_in  \\\n",
              "0  International TV Shows, TV Dramas, TV Sci-Fi &...   \n",
              "1                       Dramas, International Movies   \n",
              "\n",
              "                                         description  \n",
              "0  In a future where the elite inhabit an island ...  \n",
              "1  After a devastating earthquake hits Mexico Cit...  "
            ],
            "text/html": [
              "\n",
              "  <div id=\"df-4ac20064-869e-4698-ac9e-3f1b1cdf5aa0\">\n",
              "    <div class=\"colab-df-container\">\n",
              "      <div>\n",
              "<style scoped>\n",
              "    .dataframe tbody tr th:only-of-type {\n",
              "        vertical-align: middle;\n",
              "    }\n",
              "\n",
              "    .dataframe tbody tr th {\n",
              "        vertical-align: top;\n",
              "    }\n",
              "\n",
              "    .dataframe thead th {\n",
              "        text-align: right;\n",
              "    }\n",
              "</style>\n",
              "<table border=\"1\" class=\"dataframe\">\n",
              "  <thead>\n",
              "    <tr style=\"text-align: right;\">\n",
              "      <th></th>\n",
              "      <th>show_id</th>\n",
              "      <th>type</th>\n",
              "      <th>title</th>\n",
              "      <th>director</th>\n",
              "      <th>cast</th>\n",
              "      <th>country</th>\n",
              "      <th>date_added</th>\n",
              "      <th>release_year</th>\n",
              "      <th>rating</th>\n",
              "      <th>duration</th>\n",
              "      <th>listed_in</th>\n",
              "      <th>description</th>\n",
              "    </tr>\n",
              "  </thead>\n",
              "  <tbody>\n",
              "    <tr>\n",
              "      <th>0</th>\n",
              "      <td>s1</td>\n",
              "      <td>TV Show</td>\n",
              "      <td>3%</td>\n",
              "      <td>NaN</td>\n",
              "      <td>João Miguel, Bianca Comparato, Michel Gomes, R...</td>\n",
              "      <td>Brazil</td>\n",
              "      <td>August 14, 2020</td>\n",
              "      <td>2020</td>\n",
              "      <td>TV-MA</td>\n",
              "      <td>4 Seasons</td>\n",
              "      <td>International TV Shows, TV Dramas, TV Sci-Fi &amp;...</td>\n",
              "      <td>In a future where the elite inhabit an island ...</td>\n",
              "    </tr>\n",
              "    <tr>\n",
              "      <th>1</th>\n",
              "      <td>s2</td>\n",
              "      <td>Movie</td>\n",
              "      <td>7:19</td>\n",
              "      <td>Jorge Michel Grau</td>\n",
              "      <td>Demián Bichir, Héctor Bonilla, Oscar Serrano, ...</td>\n",
              "      <td>Mexico</td>\n",
              "      <td>December 23, 2016</td>\n",
              "      <td>2016</td>\n",
              "      <td>TV-MA</td>\n",
              "      <td>93 min</td>\n",
              "      <td>Dramas, International Movies</td>\n",
              "      <td>After a devastating earthquake hits Mexico Cit...</td>\n",
              "    </tr>\n",
              "  </tbody>\n",
              "</table>\n",
              "</div>\n",
              "      <button class=\"colab-df-convert\" onclick=\"convertToInteractive('df-4ac20064-869e-4698-ac9e-3f1b1cdf5aa0')\"\n",
              "              title=\"Convert this dataframe to an interactive table.\"\n",
              "              style=\"display:none;\">\n",
              "        \n",
              "  <svg xmlns=\"http://www.w3.org/2000/svg\" height=\"24px\"viewBox=\"0 0 24 24\"\n",
              "       width=\"24px\">\n",
              "    <path d=\"M0 0h24v24H0V0z\" fill=\"none\"/>\n",
              "    <path d=\"M18.56 5.44l.94 2.06.94-2.06 2.06-.94-2.06-.94-.94-2.06-.94 2.06-2.06.94zm-11 1L8.5 8.5l.94-2.06 2.06-.94-2.06-.94L8.5 2.5l-.94 2.06-2.06.94zm10 10l.94 2.06.94-2.06 2.06-.94-2.06-.94-.94-2.06-.94 2.06-2.06.94z\"/><path d=\"M17.41 7.96l-1.37-1.37c-.4-.4-.92-.59-1.43-.59-.52 0-1.04.2-1.43.59L10.3 9.45l-7.72 7.72c-.78.78-.78 2.05 0 2.83L4 21.41c.39.39.9.59 1.41.59.51 0 1.02-.2 1.41-.59l7.78-7.78 2.81-2.81c.8-.78.8-2.07 0-2.86zM5.41 20L4 18.59l7.72-7.72 1.47 1.35L5.41 20z\"/>\n",
              "  </svg>\n",
              "      </button>\n",
              "      \n",
              "  <style>\n",
              "    .colab-df-container {\n",
              "      display:flex;\n",
              "      flex-wrap:wrap;\n",
              "      gap: 12px;\n",
              "    }\n",
              "\n",
              "    .colab-df-convert {\n",
              "      background-color: #E8F0FE;\n",
              "      border: none;\n",
              "      border-radius: 50%;\n",
              "      cursor: pointer;\n",
              "      display: none;\n",
              "      fill: #1967D2;\n",
              "      height: 32px;\n",
              "      padding: 0 0 0 0;\n",
              "      width: 32px;\n",
              "    }\n",
              "\n",
              "    .colab-df-convert:hover {\n",
              "      background-color: #E2EBFA;\n",
              "      box-shadow: 0px 1px 2px rgba(60, 64, 67, 0.3), 0px 1px 3px 1px rgba(60, 64, 67, 0.15);\n",
              "      fill: #174EA6;\n",
              "    }\n",
              "\n",
              "    [theme=dark] .colab-df-convert {\n",
              "      background-color: #3B4455;\n",
              "      fill: #D2E3FC;\n",
              "    }\n",
              "\n",
              "    [theme=dark] .colab-df-convert:hover {\n",
              "      background-color: #434B5C;\n",
              "      box-shadow: 0px 1px 3px 1px rgba(0, 0, 0, 0.15);\n",
              "      filter: drop-shadow(0px 1px 2px rgba(0, 0, 0, 0.3));\n",
              "      fill: #FFFFFF;\n",
              "    }\n",
              "  </style>\n",
              "\n",
              "      <script>\n",
              "        const buttonEl =\n",
              "          document.querySelector('#df-4ac20064-869e-4698-ac9e-3f1b1cdf5aa0 button.colab-df-convert');\n",
              "        buttonEl.style.display =\n",
              "          google.colab.kernel.accessAllowed ? 'block' : 'none';\n",
              "\n",
              "        async function convertToInteractive(key) {\n",
              "          const element = document.querySelector('#df-4ac20064-869e-4698-ac9e-3f1b1cdf5aa0');\n",
              "          const dataTable =\n",
              "            await google.colab.kernel.invokeFunction('convertToInteractive',\n",
              "                                                     [key], {});\n",
              "          if (!dataTable) return;\n",
              "\n",
              "          const docLinkHtml = 'Like what you see? Visit the ' +\n",
              "            '<a target=\"_blank\" href=https://colab.research.google.com/notebooks/data_table.ipynb>data table notebook</a>'\n",
              "            + ' to learn more about interactive tables.';\n",
              "          element.innerHTML = '';\n",
              "          dataTable['output_type'] = 'display_data';\n",
              "          await google.colab.output.renderOutput(dataTable, element);\n",
              "          const docLink = document.createElement('div');\n",
              "          docLink.innerHTML = docLinkHtml;\n",
              "          element.appendChild(docLink);\n",
              "        }\n",
              "      </script>\n",
              "    </div>\n",
              "  </div>\n",
              "  "
            ]
          },
          "metadata": {},
          "execution_count": 21
        }
      ]
    },
    {
      "cell_type": "markdown",
      "source": [
        "### Variables Description "
      ],
      "metadata": {
        "id": "PBTbrJXOngz2"
      }
    },
    {
      "cell_type": "markdown",
      "source": [
        "1. show_id : Unique ID for every Movie / Tv Show\n",
        "\n",
        "2. type : Identifier - A Movie or TV Show\n",
        "\n",
        "3. title : Title of the Movie / Tv Show\n",
        "\n",
        "4. director : Director of the Movie\n",
        "\n",
        "5. cast : Actors involved in the movie / show\n",
        "\n",
        "6. country : Country where the movie / show was produced\n",
        "\n",
        "7. date_added : Date it was added on Netflix\n",
        "\n",
        "8. release_year : Actual Releaseyear of the movie / show\n",
        "\n",
        "9. rating : TV Rating of the movie / show\n",
        "\n",
        "10. duration : Total Duration - in minutes or number of seasons\n",
        "\n",
        "11. listed_in : Genere\n",
        "\n",
        "12. description: The Summary description"
      ],
      "metadata": {
        "id": "aJV4KIxSnxay"
      }
    },
    {
      "cell_type": "markdown",
      "source": [
        "### Check Unique Values for each variable."
      ],
      "metadata": {
        "id": "u3PMJOP6ngxN"
      }
    },
    {
      "cell_type": "code",
      "source": [
        "# Check Unique Values for each variable.\n",
        "for i in df.columns.tolist():\n",
        "  print(\"No. of unique values in \",i,\"is\",df[i].nunique(),\".\")   "
      ],
      "metadata": {
        "id": "zms12Yq5n-jE",
        "colab": {
          "base_uri": "https://localhost:8080/"
        },
        "outputId": "508a4303-f6c1-4ee3-8a33-8693288141c1"
      },
      "execution_count": 22,
      "outputs": [
        {
          "output_type": "stream",
          "name": "stdout",
          "text": [
            "No. of unique values in  show_id is 7787 .\n",
            "No. of unique values in  type is 2 .\n",
            "No. of unique values in  title is 7787 .\n",
            "No. of unique values in  director is 4049 .\n",
            "No. of unique values in  cast is 6831 .\n",
            "No. of unique values in  country is 681 .\n",
            "No. of unique values in  date_added is 1565 .\n",
            "No. of unique values in  release_year is 73 .\n",
            "No. of unique values in  rating is 14 .\n",
            "No. of unique values in  duration is 216 .\n",
            "No. of unique values in  listed_in is 492 .\n",
            "No. of unique values in  description is 7769 .\n"
          ]
        }
      ]
    },
    {
      "cell_type": "markdown",
      "source": [
        "## 3. ***Data Wrangling***"
      ],
      "metadata": {
        "id": "dauF4eBmngu3"
      }
    },
    {
      "cell_type": "markdown",
      "source": [
        "### Data Wrangling Code"
      ],
      "metadata": {
        "id": "bKJF3rekwFvQ"
      }
    },
    {
      "cell_type": "code",
      "source": [
        "#total null values\n",
        "df.isnull().sum().sum()"
      ],
      "metadata": {
        "colab": {
          "base_uri": "https://localhost:8080/"
        },
        "id": "jWxZ9nouBSQ-",
        "outputId": "32b75026-59ff-4a8b-ce3f-bccd7d8cb382"
      },
      "execution_count": 23,
      "outputs": [
        {
          "output_type": "execute_result",
          "data": {
            "text/plain": [
              "3631"
            ]
          },
          "metadata": {},
          "execution_count": 23
        }
      ]
    },
    {
      "cell_type": "code",
      "source": [
        "# Write your code to make your dataset analysis ready.\n",
        "# Handling the missing values\n",
        "df[['director','cast','country']] = df[['director','cast','country']].fillna('Unknown')\n",
        "df['rating'] = df['rating'].fillna(df['rating'].mode()[0])\n",
        "df.dropna(axis=0, inplace = True)"
      ],
      "metadata": {
        "id": "wk-9a2fpoLcV"
      },
      "execution_count": 24,
      "outputs": []
    },
    {
      "cell_type": "code",
      "source": [
        "df.info()"
      ],
      "metadata": {
        "colab": {
          "base_uri": "https://localhost:8080/"
        },
        "id": "T7Y7OXKCBmIW",
        "outputId": "adb20c0b-1066-4fa2-8ab9-3b68b17ba02e"
      },
      "execution_count": 25,
      "outputs": [
        {
          "output_type": "stream",
          "name": "stdout",
          "text": [
            "<class 'pandas.core.frame.DataFrame'>\n",
            "Int64Index: 7777 entries, 0 to 7786\n",
            "Data columns (total 12 columns):\n",
            " #   Column        Non-Null Count  Dtype \n",
            "---  ------        --------------  ----- \n",
            " 0   show_id       7777 non-null   object\n",
            " 1   type          7777 non-null   object\n",
            " 2   title         7777 non-null   object\n",
            " 3   director      7777 non-null   object\n",
            " 4   cast          7777 non-null   object\n",
            " 5   country       7777 non-null   object\n",
            " 6   date_added    7777 non-null   object\n",
            " 7   release_year  7777 non-null   int64 \n",
            " 8   rating        7777 non-null   object\n",
            " 9   duration      7777 non-null   object\n",
            " 10  listed_in     7777 non-null   object\n",
            " 11  description   7777 non-null   object\n",
            "dtypes: int64(1), object(11)\n",
            "memory usage: 789.9+ KB\n"
          ]
        }
      ]
    },
    {
      "cell_type": "markdown",
      "source": [
        "### What all manipulations have you done and insights you found?"
      ],
      "metadata": {
        "id": "MSa1f5Uengrz"
      }
    },
    {
      "cell_type": "markdown",
      "source": [
        "Answer Here."
      ],
      "metadata": {
        "id": "LbyXE7I1olp8"
      }
    },
    {
      "cell_type": "markdown",
      "source": [
        "## ***4. Data Vizualization, Storytelling & Experimenting with charts : Understand the relationships between variables***"
      ],
      "metadata": {
        "id": "GF8Ens_Soomf"
      }
    },
    {
      "cell_type": "markdown",
      "source": [
        "#### Chart - 1"
      ],
      "metadata": {
        "id": "0wOQAZs5pc--"
      }
    },
    {
      "cell_type": "code",
      "source": [
        "# Chart - 1 visualization code"
      ],
      "metadata": {
        "id": "7v_ESjsspbW7"
      },
      "execution_count": null,
      "outputs": []
    },
    {
      "cell_type": "markdown",
      "source": [
        "##### 1. Why did you pick the specific chart?"
      ],
      "metadata": {
        "id": "K5QZ13OEpz2H"
      }
    },
    {
      "cell_type": "markdown",
      "source": [
        "Answer Here."
      ],
      "metadata": {
        "id": "XESiWehPqBRc"
      }
    },
    {
      "cell_type": "markdown",
      "source": [
        "##### 2. What is/are the insight(s) found from the chart?"
      ],
      "metadata": {
        "id": "lQ7QKXXCp7Bj"
      }
    },
    {
      "cell_type": "markdown",
      "source": [
        "Answer Here"
      ],
      "metadata": {
        "id": "C_j1G7yiqdRP"
      }
    },
    {
      "cell_type": "markdown",
      "source": [
        "##### 3. Will the gained insights help creating a positive business impact? \n",
        "Are there any insights that lead to negative growth? Justify with specific reason."
      ],
      "metadata": {
        "id": "448CDAPjqfQr"
      }
    },
    {
      "cell_type": "markdown",
      "source": [
        "Answer Here"
      ],
      "metadata": {
        "id": "3cspy4FjqxJW"
      }
    },
    {
      "cell_type": "markdown",
      "source": [
        "#### Chart - 2"
      ],
      "metadata": {
        "id": "KSlN3yHqYklG"
      }
    },
    {
      "cell_type": "code",
      "source": [
        "# Chart - 2 visualization code"
      ],
      "metadata": {
        "id": "R4YgtaqtYklH"
      },
      "execution_count": null,
      "outputs": []
    },
    {
      "cell_type": "markdown",
      "source": [
        "##### 1. Why did you pick the specific chart?"
      ],
      "metadata": {
        "id": "t6dVpIINYklI"
      }
    },
    {
      "cell_type": "markdown",
      "source": [
        "Answer Here."
      ],
      "metadata": {
        "id": "5aaW0BYyYklI"
      }
    },
    {
      "cell_type": "markdown",
      "source": [
        "##### 2. What is/are the insight(s) found from the chart?"
      ],
      "metadata": {
        "id": "ijmpgYnKYklI"
      }
    },
    {
      "cell_type": "markdown",
      "source": [
        "Answer Here"
      ],
      "metadata": {
        "id": "PSx9atu2YklI"
      }
    },
    {
      "cell_type": "markdown",
      "source": [
        "##### 3. Will the gained insights help creating a positive business impact? \n",
        "Are there any insights that lead to negative growth? Justify with specific reason."
      ],
      "metadata": {
        "id": "-JiQyfWJYklI"
      }
    },
    {
      "cell_type": "markdown",
      "source": [
        "Answer Here"
      ],
      "metadata": {
        "id": "BcBbebzrYklV"
      }
    },
    {
      "cell_type": "markdown",
      "source": [
        "#### Chart - 3"
      ],
      "metadata": {
        "id": "EM7whBJCYoAo"
      }
    },
    {
      "cell_type": "code",
      "source": [
        "# Chart - 3 visualization code"
      ],
      "metadata": {
        "id": "t6GMdE67YoAp"
      },
      "execution_count": null,
      "outputs": []
    },
    {
      "cell_type": "markdown",
      "source": [
        "##### 1. Why did you pick the specific chart?"
      ],
      "metadata": {
        "id": "fge-S5ZAYoAp"
      }
    },
    {
      "cell_type": "markdown",
      "source": [
        "Answer Here."
      ],
      "metadata": {
        "id": "5dBItgRVYoAp"
      }
    },
    {
      "cell_type": "markdown",
      "source": [
        "##### 2. What is/are the insight(s) found from the chart?"
      ],
      "metadata": {
        "id": "85gYPyotYoAp"
      }
    },
    {
      "cell_type": "markdown",
      "source": [
        "Answer Here"
      ],
      "metadata": {
        "id": "4jstXR6OYoAp"
      }
    },
    {
      "cell_type": "markdown",
      "source": [
        "##### 3. Will the gained insights help creating a positive business impact? \n",
        "Are there any insights that lead to negative growth? Justify with specific reason."
      ],
      "metadata": {
        "id": "RoGjAbkUYoAp"
      }
    },
    {
      "cell_type": "markdown",
      "source": [
        "Answer Here"
      ],
      "metadata": {
        "id": "zfJ8IqMcYoAp"
      }
    },
    {
      "cell_type": "markdown",
      "source": [
        "#### Chart - 4"
      ],
      "metadata": {
        "id": "4Of9eVA-YrdM"
      }
    },
    {
      "cell_type": "code",
      "source": [
        "# Chart - 4 visualization code"
      ],
      "metadata": {
        "id": "irlUoxc8YrdO"
      },
      "execution_count": null,
      "outputs": []
    },
    {
      "cell_type": "markdown",
      "source": [
        "##### 1. Why did you pick the specific chart?"
      ],
      "metadata": {
        "id": "iky9q4vBYrdO"
      }
    },
    {
      "cell_type": "markdown",
      "source": [
        "Answer Here."
      ],
      "metadata": {
        "id": "aJRCwT6DYrdO"
      }
    },
    {
      "cell_type": "markdown",
      "source": [
        "##### 2. What is/are the insight(s) found from the chart?"
      ],
      "metadata": {
        "id": "F6T5p64dYrdO"
      }
    },
    {
      "cell_type": "markdown",
      "source": [
        "Answer Here"
      ],
      "metadata": {
        "id": "Xx8WAJvtYrdO"
      }
    },
    {
      "cell_type": "markdown",
      "source": [
        "##### 3. Will the gained insights help creating a positive business impact? \n",
        "Are there any insights that lead to negative growth? Justify with specific reason."
      ],
      "metadata": {
        "id": "y-Ehk30pYrdP"
      }
    },
    {
      "cell_type": "markdown",
      "source": [
        "Answer Here"
      ],
      "metadata": {
        "id": "jLNxxz7MYrdP"
      }
    },
    {
      "cell_type": "markdown",
      "source": [
        "#### Chart - 5"
      ],
      "metadata": {
        "id": "bamQiAODYuh1"
      }
    },
    {
      "cell_type": "code",
      "source": [
        "# Chart - 5 visualization code"
      ],
      "metadata": {
        "id": "TIJwrbroYuh3"
      },
      "execution_count": null,
      "outputs": []
    },
    {
      "cell_type": "markdown",
      "source": [
        "##### 1. Why did you pick the specific chart?"
      ],
      "metadata": {
        "id": "QHF8YVU7Yuh3"
      }
    },
    {
      "cell_type": "markdown",
      "source": [
        "Answer Here."
      ],
      "metadata": {
        "id": "dcxuIMRPYuh3"
      }
    },
    {
      "cell_type": "markdown",
      "source": [
        "##### 2. What is/are the insight(s) found from the chart?"
      ],
      "metadata": {
        "id": "GwzvFGzlYuh3"
      }
    },
    {
      "cell_type": "markdown",
      "source": [
        "Answer Here"
      ],
      "metadata": {
        "id": "uyqkiB8YYuh3"
      }
    },
    {
      "cell_type": "markdown",
      "source": [
        "##### 3. Will the gained insights help creating a positive business impact? \n",
        "Are there any insights that lead to negative growth? Justify with specific reason."
      ],
      "metadata": {
        "id": "qYpmQ266Yuh3"
      }
    },
    {
      "cell_type": "markdown",
      "source": [
        "Answer Here"
      ],
      "metadata": {
        "id": "_WtzZ_hCYuh4"
      }
    },
    {
      "cell_type": "markdown",
      "source": [
        "#### Chart - 6"
      ],
      "metadata": {
        "id": "OH-pJp9IphqM"
      }
    },
    {
      "cell_type": "code",
      "source": [
        "# Chart - 6 visualization code"
      ],
      "metadata": {
        "id": "kuRf4wtuphqN"
      },
      "execution_count": null,
      "outputs": []
    },
    {
      "cell_type": "markdown",
      "source": [
        "##### 1. Why did you pick the specific chart?"
      ],
      "metadata": {
        "id": "bbFf2-_FphqN"
      }
    },
    {
      "cell_type": "markdown",
      "source": [
        "Answer Here."
      ],
      "metadata": {
        "id": "loh7H2nzphqN"
      }
    },
    {
      "cell_type": "markdown",
      "source": [
        "##### 2. What is/are the insight(s) found from the chart?"
      ],
      "metadata": {
        "id": "_ouA3fa0phqN"
      }
    },
    {
      "cell_type": "markdown",
      "source": [
        "Answer Here"
      ],
      "metadata": {
        "id": "VECbqPI7phqN"
      }
    },
    {
      "cell_type": "markdown",
      "source": [
        "##### 3. Will the gained insights help creating a positive business impact? \n",
        "Are there any insights that lead to negative growth? Justify with specific reason."
      ],
      "metadata": {
        "id": "Seke61FWphqN"
      }
    },
    {
      "cell_type": "markdown",
      "source": [
        "Answer Here"
      ],
      "metadata": {
        "id": "DW4_bGpfphqN"
      }
    },
    {
      "cell_type": "markdown",
      "source": [
        "#### Chart - 7"
      ],
      "metadata": {
        "id": "PIIx-8_IphqN"
      }
    },
    {
      "cell_type": "code",
      "source": [
        "# Chart - 7 visualization code"
      ],
      "metadata": {
        "id": "lqAIGUfyphqO"
      },
      "execution_count": null,
      "outputs": []
    },
    {
      "cell_type": "markdown",
      "source": [
        "##### 1. Why did you pick the specific chart?"
      ],
      "metadata": {
        "id": "t27r6nlMphqO"
      }
    },
    {
      "cell_type": "markdown",
      "source": [
        "Answer Here."
      ],
      "metadata": {
        "id": "iv6ro40sphqO"
      }
    },
    {
      "cell_type": "markdown",
      "source": [
        "##### 2. What is/are the insight(s) found from the chart?"
      ],
      "metadata": {
        "id": "r2jJGEOYphqO"
      }
    },
    {
      "cell_type": "markdown",
      "source": [
        "Answer Here"
      ],
      "metadata": {
        "id": "Po6ZPi4hphqO"
      }
    },
    {
      "cell_type": "markdown",
      "source": [
        "##### 3. Will the gained insights help creating a positive business impact? \n",
        "Are there any insights that lead to negative growth? Justify with specific reason."
      ],
      "metadata": {
        "id": "b0JNsNcRphqO"
      }
    },
    {
      "cell_type": "markdown",
      "source": [
        "Answer Here"
      ],
      "metadata": {
        "id": "xvSq8iUTphqO"
      }
    },
    {
      "cell_type": "markdown",
      "source": [
        "#### Chart - 8"
      ],
      "metadata": {
        "id": "BZR9WyysphqO"
      }
    },
    {
      "cell_type": "code",
      "source": [
        "# Chart - 8 visualization code"
      ],
      "metadata": {
        "id": "TdPTWpAVphqO"
      },
      "execution_count": null,
      "outputs": []
    },
    {
      "cell_type": "markdown",
      "source": [
        "##### 1. Why did you pick the specific chart?"
      ],
      "metadata": {
        "id": "jj7wYXLtphqO"
      }
    },
    {
      "cell_type": "markdown",
      "source": [
        "Answer Here."
      ],
      "metadata": {
        "id": "Ob8u6rCTphqO"
      }
    },
    {
      "cell_type": "markdown",
      "source": [
        "##### 2. What is/are the insight(s) found from the chart?"
      ],
      "metadata": {
        "id": "eZrbJ2SmphqO"
      }
    },
    {
      "cell_type": "markdown",
      "source": [
        "Answer Here"
      ],
      "metadata": {
        "id": "mZtgC_hjphqO"
      }
    },
    {
      "cell_type": "markdown",
      "source": [
        "##### 3. Will the gained insights help creating a positive business impact? \n",
        "Are there any insights that lead to negative growth? Justify with specific reason."
      ],
      "metadata": {
        "id": "rFu4xreNphqO"
      }
    },
    {
      "cell_type": "markdown",
      "source": [
        "Answer Here"
      ],
      "metadata": {
        "id": "ey_0qi68phqO"
      }
    },
    {
      "cell_type": "markdown",
      "source": [
        "#### Chart - 9"
      ],
      "metadata": {
        "id": "YJ55k-q6phqO"
      }
    },
    {
      "cell_type": "code",
      "source": [
        "# Chart - 9 visualization code"
      ],
      "metadata": {
        "id": "B2aS4O1ophqO"
      },
      "execution_count": null,
      "outputs": []
    },
    {
      "cell_type": "markdown",
      "source": [
        "##### 1. Why did you pick the specific chart?"
      ],
      "metadata": {
        "id": "gCFgpxoyphqP"
      }
    },
    {
      "cell_type": "markdown",
      "source": [
        "Answer Here."
      ],
      "metadata": {
        "id": "TVxDimi2phqP"
      }
    },
    {
      "cell_type": "markdown",
      "source": [
        "##### 2. What is/are the insight(s) found from the chart?"
      ],
      "metadata": {
        "id": "OVtJsKN_phqQ"
      }
    },
    {
      "cell_type": "markdown",
      "source": [
        "Answer Here"
      ],
      "metadata": {
        "id": "ngGi97qjphqQ"
      }
    },
    {
      "cell_type": "markdown",
      "source": [
        "##### 3. Will the gained insights help creating a positive business impact? \n",
        "Are there any insights that lead to negative growth? Justify with specific reason."
      ],
      "metadata": {
        "id": "lssrdh5qphqQ"
      }
    },
    {
      "cell_type": "markdown",
      "source": [
        "Answer Here"
      ],
      "metadata": {
        "id": "tBpY5ekJphqQ"
      }
    },
    {
      "cell_type": "markdown",
      "source": [
        "#### Chart - 10"
      ],
      "metadata": {
        "id": "U2RJ9gkRphqQ"
      }
    },
    {
      "cell_type": "code",
      "source": [
        "# Chart - 10 visualization code"
      ],
      "metadata": {
        "id": "GM7a4YP4phqQ"
      },
      "execution_count": null,
      "outputs": []
    },
    {
      "cell_type": "markdown",
      "source": [
        "##### 1. Why did you pick the specific chart?"
      ],
      "metadata": {
        "id": "1M8mcRywphqQ"
      }
    },
    {
      "cell_type": "markdown",
      "source": [
        "Answer Here."
      ],
      "metadata": {
        "id": "8agQvks0phqQ"
      }
    },
    {
      "cell_type": "markdown",
      "source": [
        "##### 2. What is/are the insight(s) found from the chart?"
      ],
      "metadata": {
        "id": "tgIPom80phqQ"
      }
    },
    {
      "cell_type": "markdown",
      "source": [
        "Answer Here"
      ],
      "metadata": {
        "id": "Qp13pnNzphqQ"
      }
    },
    {
      "cell_type": "markdown",
      "source": [
        "##### 3. Will the gained insights help creating a positive business impact? \n",
        "Are there any insights that lead to negative growth? Justify with specific reason."
      ],
      "metadata": {
        "id": "JMzcOPDDphqR"
      }
    },
    {
      "cell_type": "markdown",
      "source": [
        "Answer Here"
      ],
      "metadata": {
        "id": "R4Ka1PC2phqR"
      }
    },
    {
      "cell_type": "markdown",
      "source": [
        "#### Chart - 11"
      ],
      "metadata": {
        "id": "x-EpHcCOp1ci"
      }
    },
    {
      "cell_type": "code",
      "source": [
        "# Chart - 11 visualization code"
      ],
      "metadata": {
        "id": "mAQTIvtqp1cj"
      },
      "execution_count": null,
      "outputs": []
    },
    {
      "cell_type": "markdown",
      "source": [
        "##### 1. Why did you pick the specific chart?"
      ],
      "metadata": {
        "id": "X_VqEhTip1ck"
      }
    },
    {
      "cell_type": "markdown",
      "source": [
        "Answer Here."
      ],
      "metadata": {
        "id": "-vsMzt_np1ck"
      }
    },
    {
      "cell_type": "markdown",
      "source": [
        "##### 2. What is/are the insight(s) found from the chart?"
      ],
      "metadata": {
        "id": "8zGJKyg5p1ck"
      }
    },
    {
      "cell_type": "markdown",
      "source": [
        "Answer Here"
      ],
      "metadata": {
        "id": "ZYdMsrqVp1ck"
      }
    },
    {
      "cell_type": "markdown",
      "source": [
        "##### 3. Will the gained insights help creating a positive business impact? \n",
        "Are there any insights that lead to negative growth? Justify with specific reason."
      ],
      "metadata": {
        "id": "PVzmfK_Ep1ck"
      }
    },
    {
      "cell_type": "markdown",
      "source": [
        "Answer Here"
      ],
      "metadata": {
        "id": "druuKYZpp1ck"
      }
    },
    {
      "cell_type": "markdown",
      "source": [
        "#### Chart - 12"
      ],
      "metadata": {
        "id": "n3dbpmDWp1ck"
      }
    },
    {
      "cell_type": "code",
      "source": [
        "# Chart - 12 visualization code"
      ],
      "metadata": {
        "id": "bwevp1tKp1ck"
      },
      "execution_count": null,
      "outputs": []
    },
    {
      "cell_type": "markdown",
      "source": [
        "##### 1. Why did you pick the specific chart?"
      ],
      "metadata": {
        "id": "ylSl6qgtp1ck"
      }
    },
    {
      "cell_type": "markdown",
      "source": [
        "Answer Here."
      ],
      "metadata": {
        "id": "m2xqNkiQp1ck"
      }
    },
    {
      "cell_type": "markdown",
      "source": [
        "##### 2. What is/are the insight(s) found from the chart?"
      ],
      "metadata": {
        "id": "ZWILFDl5p1ck"
      }
    },
    {
      "cell_type": "markdown",
      "source": [
        "Answer Here"
      ],
      "metadata": {
        "id": "x-lUsV2mp1ck"
      }
    },
    {
      "cell_type": "markdown",
      "source": [
        "##### 3. Will the gained insights help creating a positive business impact? \n",
        "Are there any insights that lead to negative growth? Justify with specific reason."
      ],
      "metadata": {
        "id": "M7G43BXep1ck"
      }
    },
    {
      "cell_type": "markdown",
      "source": [
        "Answer Here"
      ],
      "metadata": {
        "id": "5wwDJXsLp1cl"
      }
    },
    {
      "cell_type": "markdown",
      "source": [
        "#### Chart - 13"
      ],
      "metadata": {
        "id": "Ag9LCva-p1cl"
      }
    },
    {
      "cell_type": "code",
      "source": [
        "# Chart - 13 visualization code"
      ],
      "metadata": {
        "id": "EUfxeq9-p1cl"
      },
      "execution_count": null,
      "outputs": []
    },
    {
      "cell_type": "markdown",
      "source": [
        "##### 1. Why did you pick the specific chart?"
      ],
      "metadata": {
        "id": "E6MkPsBcp1cl"
      }
    },
    {
      "cell_type": "markdown",
      "source": [
        "Answer Here."
      ],
      "metadata": {
        "id": "V22bRsFWp1cl"
      }
    },
    {
      "cell_type": "markdown",
      "source": [
        "##### 2. What is/are the insight(s) found from the chart?"
      ],
      "metadata": {
        "id": "2cELzS2fp1cl"
      }
    },
    {
      "cell_type": "markdown",
      "source": [
        "Answer Here"
      ],
      "metadata": {
        "id": "ozQPc2_Ip1cl"
      }
    },
    {
      "cell_type": "markdown",
      "source": [
        "##### 3. Will the gained insights help creating a positive business impact? \n",
        "Are there any insights that lead to negative growth? Justify with specific reason."
      ],
      "metadata": {
        "id": "3MPXvC8up1cl"
      }
    },
    {
      "cell_type": "markdown",
      "source": [
        "Answer Here"
      ],
      "metadata": {
        "id": "GL8l1tdLp1cl"
      }
    },
    {
      "cell_type": "markdown",
      "source": [
        "#### Chart - 14 - Correlation Heatmap"
      ],
      "metadata": {
        "id": "NC_X3p0fY2L0"
      }
    },
    {
      "cell_type": "code",
      "source": [
        "# Correlation Heatmap visualization code"
      ],
      "metadata": {
        "id": "xyC9zolEZNRQ"
      },
      "execution_count": null,
      "outputs": []
    },
    {
      "cell_type": "markdown",
      "source": [
        "##### 1. Why did you pick the specific chart?"
      ],
      "metadata": {
        "id": "UV0SzAkaZNRQ"
      }
    },
    {
      "cell_type": "markdown",
      "source": [
        "Answer Here."
      ],
      "metadata": {
        "id": "DVPuT8LYZNRQ"
      }
    },
    {
      "cell_type": "markdown",
      "source": [
        "##### 2. What is/are the insight(s) found from the chart?"
      ],
      "metadata": {
        "id": "YPEH6qLeZNRQ"
      }
    },
    {
      "cell_type": "markdown",
      "source": [
        "Answer Here"
      ],
      "metadata": {
        "id": "bfSqtnDqZNRR"
      }
    },
    {
      "cell_type": "markdown",
      "source": [
        "#### Chart - 15 - Pair Plot "
      ],
      "metadata": {
        "id": "q29F0dvdveiT"
      }
    },
    {
      "cell_type": "code",
      "source": [
        "# Pair Plot visualization code"
      ],
      "metadata": {
        "id": "o58-TEIhveiU"
      },
      "execution_count": null,
      "outputs": []
    },
    {
      "cell_type": "markdown",
      "source": [
        "##### 1. Why did you pick the specific chart?"
      ],
      "metadata": {
        "id": "EXh0U9oCveiU"
      }
    },
    {
      "cell_type": "markdown",
      "source": [
        "Answer Here."
      ],
      "metadata": {
        "id": "eMmPjTByveiU"
      }
    },
    {
      "cell_type": "markdown",
      "source": [
        "##### 2. What is/are the insight(s) found from the chart?"
      ],
      "metadata": {
        "id": "22aHeOlLveiV"
      }
    },
    {
      "cell_type": "markdown",
      "source": [
        "Answer Here"
      ],
      "metadata": {
        "id": "uPQ8RGwHveiV"
      }
    },
    {
      "cell_type": "markdown",
      "source": [
        "## **5. Solution to Business Objective**"
      ],
      "metadata": {
        "id": "JcMwzZxoAimU"
      }
    },
    {
      "cell_type": "markdown",
      "source": [
        "#### What do you suggest the client to achieve Business Objective ? \n",
        "Explain Briefly."
      ],
      "metadata": {
        "id": "8G2x9gOozGDZ"
      }
    },
    {
      "cell_type": "markdown",
      "source": [
        "Answer Here."
      ],
      "metadata": {
        "id": "pASKb0qOza21"
      }
    },
    {
      "cell_type": "markdown",
      "source": [
        "# **Conclusion**"
      ],
      "metadata": {
        "id": "gCX9965dhzqZ"
      }
    },
    {
      "cell_type": "markdown",
      "source": [
        "Write the conclusion here."
      ],
      "metadata": {
        "id": "Fjb1IsQkh3yE"
      }
    },
    {
      "cell_type": "markdown",
      "source": [
        "### ***Hurrah! You have successfully completed your EDA Capstone Project !!!***"
      ],
      "metadata": {
        "id": "gIfDvo9L0UH2"
      }
    }
  ]
}